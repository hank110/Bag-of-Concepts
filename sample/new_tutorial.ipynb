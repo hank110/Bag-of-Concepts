{
 "cells": [
  {
   "cell_type": "markdown",
   "metadata": {},
   "source": [
    "## Tutorial for BOC (Bag-of-Concepts)\n",
    "\n",
    "- This tutorial is a re-implementation of Kim, Han Kyul, Hyunjoong Kim, and Sungzoon Cho. \"Bag-of-Concepts: Comprehending Document Representation through Clustering Words in Distributed Representation.\" Neurocomputing (2017).\n",
    "\n",
    "- It will show you how to use this package to create sample BOC documents vectors as presented in the paper."
   ]
  },
  {
   "cell_type": "markdown",
   "metadata": {},
   "source": [
    "### 1. Import the package and designate the location of the input trext file.\n",
    "\n",
    "- Sample text file contains 5,000 articles from Reuter dataset used in the paper"
   ]
  },
  {
   "cell_type": "code",
   "execution_count": 2,
   "metadata": {},
   "outputs": [],
   "source": [
    "import bagofconcepts as bc\n",
    "\n",
    "# pip install bagofconcepts"
   ]
  },
  {
   "cell_type": "code",
   "execution_count": 3,
   "metadata": {},
   "outputs": [],
   "source": [
    "document_path='./sample_data/sample_articles.txt'"
   ]
  },
  {
   "cell_type": "markdown",
   "metadata": {},
   "source": [
    "### 2. Set parameters for training BOC\n",
    "\n",
    "- To train BOC, embedding dimension, context window size, minimum frequency and number of concepts must bedefined as parameters.\n",
    "- **Embedding dimension** denotes the dimensions of word vectors to be trained from word2vec\n",
    "- **Context window size** refers to the number of precedeing and subsequent words that are going to be regarded as contexts for a given input word\n",
    "- Words with frequencies below **minimum frequency** will be ignored in the model\n",
    "- ** The number of concepts** indicates the value of k to be used for spherical clustering. (number of concepts & dimensions of document vectors to be trained)\n"
   ]
  },
  {
   "cell_type": "markdown",
   "metadata": {},
   "source": [
    "### 3. Train BOC document vectors"
   ]
  },
  {
   "cell_type": "code",
   "execution_count": 13,
   "metadata": {},
   "outputs": [],
   "source": [
    "boc_model=bc.BOCModel(doc_path=document_path, embedding_dim=200, context=8, min_freq=50, num_concept=100 )\n",
    "\n",
    "boc_matrix,word2concept_list,idx2word_converter=boc_model.fit()"
   ]
  },
  {
   "cell_type": "code",
   "execution_count": 12,
   "metadata": {},
   "outputs": [
    {
     "name": "stderr",
     "output_type": "stream",
     "text": [
      "/anaconda3/envs/py36/lib/python3.6/site-packages/scikit_learn-0.20.3-py3.6-macosx-10.7-x86_64.egg/sklearn/svm/base.py:196: FutureWarning: The default value of gamma will change from 'auto' to 'scale' in version 0.22 to account better for unscaled features. Set gamma explicitly to 'auto' or 'scale' to avoid this warning.\n",
      "  \"avoid this warning.\", FutureWarning)\n"
     ]
    },
    {
     "name": "stdout",
     "output_type": "stream",
     "text": [
      "----------Cross Validation Result----------\n",
      "0.5605\n",
      "{'C': 0.5, 'kernel': 'linear'}\n",
      "----------Prediction Result----------\n",
      "0.547\n"
     ]
    }
   ],
   "source": [
    "from sklearn.metrics import f1_score\n",
    "from sklearn.model_selection import GridSearchCV\n",
    "from sklearn import svm\n",
    "\n",
    "with open('./sample_data/sample_labels.txt') as f:\n",
    "    labels=[]\n",
    "    for line in f:\n",
    "        labels.append(line)\n",
    "\n",
    "X_train=boc_matrix[0:4000]\n",
    "X_test=boc_matrix[4000:]\n",
    "Y_train=labels[0:4000]\n",
    "Y_test=labels[4000:]\n",
    "\n",
    "\n",
    "parameters={'C':[0.5, 2], 'kernel':['linear', 'poly']}\n",
    "svr=svm.SVC(decision_function_shape='ovr')\n",
    "clf1=GridSearchCV(svr, parameters, cv=10)\n",
    "clf1.fit(X_train, Y_train)\n",
    "print(\"----------Cross Validation Result----------\")\n",
    "print(clf1.best_score_)\n",
    "print(clf1.best_params_)\n",
    "\n",
    "\n",
    "print(\"----------Prediction Result----------\")\n",
    "yhat=clf1.predict(X_test)\n",
    "print(f1_score(Y_test, yhat, average='micro'))"
   ]
  }
 ],
 "metadata": {
  "kernelspec": {
   "display_name": "Python 3",
   "language": "python",
   "name": "python3"
  },
  "language_info": {
   "codemirror_mode": {
    "name": "ipython",
    "version": 3
   },
   "file_extension": ".py",
   "mimetype": "text/x-python",
   "name": "python",
   "nbconvert_exporter": "python",
   "pygments_lexer": "ipython3",
   "version": "3.6.8"
  }
 },
 "nbformat": 4,
 "nbformat_minor": 2
}
